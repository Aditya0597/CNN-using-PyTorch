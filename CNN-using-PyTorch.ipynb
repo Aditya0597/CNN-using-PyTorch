{
  "nbformat": 4,
  "nbformat_minor": 0,
  "metadata": {
    "kernelspec": {
      "display_name": "Python 3",
      "language": "python",
      "name": "python3"
    },
    "language_info": {
      "codemirror_mode": {
        "name": "ipython",
        "version": 3
      },
      "file_extension": ".py",
      "mimetype": "text/x-python",
      "name": "python",
      "nbconvert_exporter": "python",
      "pygments_lexer": "ipython3",
      "version": "3.6.6"
    },
    "colab": {
      "name": "Assignment_3_ML.ipynb",
      "provenance": [],
      "collapsed_sections": []
    },
    "widgets": {
      "application/vnd.jupyter.widget-state+json": {
        "456705b55f1849e49b5ae390e96a33ad": {
          "model_module": "@jupyter-widgets/controls",
          "model_name": "HBoxModel",
          "state": {
            "_view_name": "HBoxView",
            "_dom_classes": [],
            "_model_name": "HBoxModel",
            "_view_module": "@jupyter-widgets/controls",
            "_model_module_version": "1.5.0",
            "_view_count": null,
            "_view_module_version": "1.5.0",
            "box_style": "",
            "layout": "IPY_MODEL_b789c04097d7418894d595d2b4f78600",
            "_model_module": "@jupyter-widgets/controls",
            "children": [
              "IPY_MODEL_f84b1cf367b8489697b5b07670af1a3b",
              "IPY_MODEL_4b00c222cd6549e4987573b9e7b48041"
            ]
          }
        },
        "b789c04097d7418894d595d2b4f78600": {
          "model_module": "@jupyter-widgets/base",
          "model_name": "LayoutModel",
          "state": {
            "_view_name": "LayoutView",
            "grid_template_rows": null,
            "right": null,
            "justify_content": null,
            "_view_module": "@jupyter-widgets/base",
            "overflow": null,
            "_model_module_version": "1.2.0",
            "_view_count": null,
            "flex_flow": null,
            "width": null,
            "min_width": null,
            "border": null,
            "align_items": null,
            "bottom": null,
            "_model_module": "@jupyter-widgets/base",
            "top": null,
            "grid_column": null,
            "overflow_y": null,
            "overflow_x": null,
            "grid_auto_flow": null,
            "grid_area": null,
            "grid_template_columns": null,
            "flex": null,
            "_model_name": "LayoutModel",
            "justify_items": null,
            "grid_row": null,
            "max_height": null,
            "align_content": null,
            "visibility": null,
            "align_self": null,
            "height": null,
            "min_height": null,
            "padding": null,
            "grid_auto_rows": null,
            "grid_gap": null,
            "max_width": null,
            "order": null,
            "_view_module_version": "1.2.0",
            "grid_template_areas": null,
            "object_position": null,
            "object_fit": null,
            "grid_auto_columns": null,
            "margin": null,
            "display": null,
            "left": null
          }
        },
        "f84b1cf367b8489697b5b07670af1a3b": {
          "model_module": "@jupyter-widgets/controls",
          "model_name": "IntProgressModel",
          "state": {
            "_view_name": "ProgressView",
            "style": "IPY_MODEL_104d412d2bd14cb6af50e53fe9e82b45",
            "_dom_classes": [],
            "description": "",
            "_model_name": "IntProgressModel",
            "bar_style": "info",
            "max": 1,
            "_view_module": "@jupyter-widgets/controls",
            "_model_module_version": "1.5.0",
            "value": 1,
            "_view_count": null,
            "_view_module_version": "1.5.0",
            "orientation": "horizontal",
            "min": 0,
            "description_tooltip": null,
            "_model_module": "@jupyter-widgets/controls",
            "layout": "IPY_MODEL_3623f7718a964d8484385d64ad93c13a"
          }
        },
        "4b00c222cd6549e4987573b9e7b48041": {
          "model_module": "@jupyter-widgets/controls",
          "model_name": "HTMLModel",
          "state": {
            "_view_name": "HTMLView",
            "style": "IPY_MODEL_909e8f49e6904023b5d93884e940eebe",
            "_dom_classes": [],
            "description": "",
            "_model_name": "HTMLModel",
            "placeholder": "​",
            "_view_module": "@jupyter-widgets/controls",
            "_model_module_version": "1.5.0",
            "value": " 9920512/? [00:20&lt;00:00, 13831961.56it/s]",
            "_view_count": null,
            "_view_module_version": "1.5.0",
            "description_tooltip": null,
            "_model_module": "@jupyter-widgets/controls",
            "layout": "IPY_MODEL_ee93ddabb2ea493b8771fcd3edf04081"
          }
        },
        "104d412d2bd14cb6af50e53fe9e82b45": {
          "model_module": "@jupyter-widgets/controls",
          "model_name": "ProgressStyleModel",
          "state": {
            "_view_name": "StyleView",
            "_model_name": "ProgressStyleModel",
            "description_width": "initial",
            "_view_module": "@jupyter-widgets/base",
            "_model_module_version": "1.5.0",
            "_view_count": null,
            "_view_module_version": "1.2.0",
            "bar_color": null,
            "_model_module": "@jupyter-widgets/controls"
          }
        },
        "3623f7718a964d8484385d64ad93c13a": {
          "model_module": "@jupyter-widgets/base",
          "model_name": "LayoutModel",
          "state": {
            "_view_name": "LayoutView",
            "grid_template_rows": null,
            "right": null,
            "justify_content": null,
            "_view_module": "@jupyter-widgets/base",
            "overflow": null,
            "_model_module_version": "1.2.0",
            "_view_count": null,
            "flex_flow": null,
            "width": null,
            "min_width": null,
            "border": null,
            "align_items": null,
            "bottom": null,
            "_model_module": "@jupyter-widgets/base",
            "top": null,
            "grid_column": null,
            "overflow_y": null,
            "overflow_x": null,
            "grid_auto_flow": null,
            "grid_area": null,
            "grid_template_columns": null,
            "flex": null,
            "_model_name": "LayoutModel",
            "justify_items": null,
            "grid_row": null,
            "max_height": null,
            "align_content": null,
            "visibility": null,
            "align_self": null,
            "height": null,
            "min_height": null,
            "padding": null,
            "grid_auto_rows": null,
            "grid_gap": null,
            "max_width": null,
            "order": null,
            "_view_module_version": "1.2.0",
            "grid_template_areas": null,
            "object_position": null,
            "object_fit": null,
            "grid_auto_columns": null,
            "margin": null,
            "display": null,
            "left": null
          }
        },
        "909e8f49e6904023b5d93884e940eebe": {
          "model_module": "@jupyter-widgets/controls",
          "model_name": "DescriptionStyleModel",
          "state": {
            "_view_name": "StyleView",
            "_model_name": "DescriptionStyleModel",
            "description_width": "",
            "_view_module": "@jupyter-widgets/base",
            "_model_module_version": "1.5.0",
            "_view_count": null,
            "_view_module_version": "1.2.0",
            "_model_module": "@jupyter-widgets/controls"
          }
        },
        "ee93ddabb2ea493b8771fcd3edf04081": {
          "model_module": "@jupyter-widgets/base",
          "model_name": "LayoutModel",
          "state": {
            "_view_name": "LayoutView",
            "grid_template_rows": null,
            "right": null,
            "justify_content": null,
            "_view_module": "@jupyter-widgets/base",
            "overflow": null,
            "_model_module_version": "1.2.0",
            "_view_count": null,
            "flex_flow": null,
            "width": null,
            "min_width": null,
            "border": null,
            "align_items": null,
            "bottom": null,
            "_model_module": "@jupyter-widgets/base",
            "top": null,
            "grid_column": null,
            "overflow_y": null,
            "overflow_x": null,
            "grid_auto_flow": null,
            "grid_area": null,
            "grid_template_columns": null,
            "flex": null,
            "_model_name": "LayoutModel",
            "justify_items": null,
            "grid_row": null,
            "max_height": null,
            "align_content": null,
            "visibility": null,
            "align_self": null,
            "height": null,
            "min_height": null,
            "padding": null,
            "grid_auto_rows": null,
            "grid_gap": null,
            "max_width": null,
            "order": null,
            "_view_module_version": "1.2.0",
            "grid_template_areas": null,
            "object_position": null,
            "object_fit": null,
            "grid_auto_columns": null,
            "margin": null,
            "display": null,
            "left": null
          }
        },
        "76c4f7a4045749a9b5aa4c3d9074c249": {
          "model_module": "@jupyter-widgets/controls",
          "model_name": "HBoxModel",
          "state": {
            "_view_name": "HBoxView",
            "_dom_classes": [],
            "_model_name": "HBoxModel",
            "_view_module": "@jupyter-widgets/controls",
            "_model_module_version": "1.5.0",
            "_view_count": null,
            "_view_module_version": "1.5.0",
            "box_style": "",
            "layout": "IPY_MODEL_eff995f3d904470d8f0fba3c291f72b6",
            "_model_module": "@jupyter-widgets/controls",
            "children": [
              "IPY_MODEL_2d049d89b70147e98bb32ffc30880600",
              "IPY_MODEL_55bfdc537a5b439c9f84864868df20e7"
            ]
          }
        },
        "eff995f3d904470d8f0fba3c291f72b6": {
          "model_module": "@jupyter-widgets/base",
          "model_name": "LayoutModel",
          "state": {
            "_view_name": "LayoutView",
            "grid_template_rows": null,
            "right": null,
            "justify_content": null,
            "_view_module": "@jupyter-widgets/base",
            "overflow": null,
            "_model_module_version": "1.2.0",
            "_view_count": null,
            "flex_flow": null,
            "width": null,
            "min_width": null,
            "border": null,
            "align_items": null,
            "bottom": null,
            "_model_module": "@jupyter-widgets/base",
            "top": null,
            "grid_column": null,
            "overflow_y": null,
            "overflow_x": null,
            "grid_auto_flow": null,
            "grid_area": null,
            "grid_template_columns": null,
            "flex": null,
            "_model_name": "LayoutModel",
            "justify_items": null,
            "grid_row": null,
            "max_height": null,
            "align_content": null,
            "visibility": null,
            "align_self": null,
            "height": null,
            "min_height": null,
            "padding": null,
            "grid_auto_rows": null,
            "grid_gap": null,
            "max_width": null,
            "order": null,
            "_view_module_version": "1.2.0",
            "grid_template_areas": null,
            "object_position": null,
            "object_fit": null,
            "grid_auto_columns": null,
            "margin": null,
            "display": null,
            "left": null
          }
        },
        "2d049d89b70147e98bb32ffc30880600": {
          "model_module": "@jupyter-widgets/controls",
          "model_name": "IntProgressModel",
          "state": {
            "_view_name": "ProgressView",
            "style": "IPY_MODEL_993ded87369e452588d03ea0e5df6b70",
            "_dom_classes": [],
            "description": "",
            "_model_name": "IntProgressModel",
            "bar_style": "success",
            "max": 1,
            "_view_module": "@jupyter-widgets/controls",
            "_model_module_version": "1.5.0",
            "value": 1,
            "_view_count": null,
            "_view_module_version": "1.5.0",
            "orientation": "horizontal",
            "min": 0,
            "description_tooltip": null,
            "_model_module": "@jupyter-widgets/controls",
            "layout": "IPY_MODEL_21f5b23ecc444fe2801bd9a1e951e579"
          }
        },
        "55bfdc537a5b439c9f84864868df20e7": {
          "model_module": "@jupyter-widgets/controls",
          "model_name": "HTMLModel",
          "state": {
            "_view_name": "HTMLView",
            "style": "IPY_MODEL_2ea802c5d6184d088beb7afce301d426",
            "_dom_classes": [],
            "description": "",
            "_model_name": "HTMLModel",
            "placeholder": "​",
            "_view_module": "@jupyter-widgets/controls",
            "_model_module_version": "1.5.0",
            "value": " 32768/? [00:00&lt;00:00, 84422.22it/s]",
            "_view_count": null,
            "_view_module_version": "1.5.0",
            "description_tooltip": null,
            "_model_module": "@jupyter-widgets/controls",
            "layout": "IPY_MODEL_b89508d6fb2542518663ffb32ae86509"
          }
        },
        "993ded87369e452588d03ea0e5df6b70": {
          "model_module": "@jupyter-widgets/controls",
          "model_name": "ProgressStyleModel",
          "state": {
            "_view_name": "StyleView",
            "_model_name": "ProgressStyleModel",
            "description_width": "initial",
            "_view_module": "@jupyter-widgets/base",
            "_model_module_version": "1.5.0",
            "_view_count": null,
            "_view_module_version": "1.2.0",
            "bar_color": null,
            "_model_module": "@jupyter-widgets/controls"
          }
        },
        "21f5b23ecc444fe2801bd9a1e951e579": {
          "model_module": "@jupyter-widgets/base",
          "model_name": "LayoutModel",
          "state": {
            "_view_name": "LayoutView",
            "grid_template_rows": null,
            "right": null,
            "justify_content": null,
            "_view_module": "@jupyter-widgets/base",
            "overflow": null,
            "_model_module_version": "1.2.0",
            "_view_count": null,
            "flex_flow": null,
            "width": null,
            "min_width": null,
            "border": null,
            "align_items": null,
            "bottom": null,
            "_model_module": "@jupyter-widgets/base",
            "top": null,
            "grid_column": null,
            "overflow_y": null,
            "overflow_x": null,
            "grid_auto_flow": null,
            "grid_area": null,
            "grid_template_columns": null,
            "flex": null,
            "_model_name": "LayoutModel",
            "justify_items": null,
            "grid_row": null,
            "max_height": null,
            "align_content": null,
            "visibility": null,
            "align_self": null,
            "height": null,
            "min_height": null,
            "padding": null,
            "grid_auto_rows": null,
            "grid_gap": null,
            "max_width": null,
            "order": null,
            "_view_module_version": "1.2.0",
            "grid_template_areas": null,
            "object_position": null,
            "object_fit": null,
            "grid_auto_columns": null,
            "margin": null,
            "display": null,
            "left": null
          }
        },
        "2ea802c5d6184d088beb7afce301d426": {
          "model_module": "@jupyter-widgets/controls",
          "model_name": "DescriptionStyleModel",
          "state": {
            "_view_name": "StyleView",
            "_model_name": "DescriptionStyleModel",
            "description_width": "",
            "_view_module": "@jupyter-widgets/base",
            "_model_module_version": "1.5.0",
            "_view_count": null,
            "_view_module_version": "1.2.0",
            "_model_module": "@jupyter-widgets/controls"
          }
        },
        "b89508d6fb2542518663ffb32ae86509": {
          "model_module": "@jupyter-widgets/base",
          "model_name": "LayoutModel",
          "state": {
            "_view_name": "LayoutView",
            "grid_template_rows": null,
            "right": null,
            "justify_content": null,
            "_view_module": "@jupyter-widgets/base",
            "overflow": null,
            "_model_module_version": "1.2.0",
            "_view_count": null,
            "flex_flow": null,
            "width": null,
            "min_width": null,
            "border": null,
            "align_items": null,
            "bottom": null,
            "_model_module": "@jupyter-widgets/base",
            "top": null,
            "grid_column": null,
            "overflow_y": null,
            "overflow_x": null,
            "grid_auto_flow": null,
            "grid_area": null,
            "grid_template_columns": null,
            "flex": null,
            "_model_name": "LayoutModel",
            "justify_items": null,
            "grid_row": null,
            "max_height": null,
            "align_content": null,
            "visibility": null,
            "align_self": null,
            "height": null,
            "min_height": null,
            "padding": null,
            "grid_auto_rows": null,
            "grid_gap": null,
            "max_width": null,
            "order": null,
            "_view_module_version": "1.2.0",
            "grid_template_areas": null,
            "object_position": null,
            "object_fit": null,
            "grid_auto_columns": null,
            "margin": null,
            "display": null,
            "left": null
          }
        },
        "b1fe0ed4b2e140b0bd97d5dfa94c99d2": {
          "model_module": "@jupyter-widgets/controls",
          "model_name": "HBoxModel",
          "state": {
            "_view_name": "HBoxView",
            "_dom_classes": [],
            "_model_name": "HBoxModel",
            "_view_module": "@jupyter-widgets/controls",
            "_model_module_version": "1.5.0",
            "_view_count": null,
            "_view_module_version": "1.5.0",
            "box_style": "",
            "layout": "IPY_MODEL_b0a6386c48ac42b882cb3d614b74a860",
            "_model_module": "@jupyter-widgets/controls",
            "children": [
              "IPY_MODEL_53020e81c6bc4599b753f0868b10134f",
              "IPY_MODEL_f15e9c189c4345a0b18cebf2ed381caa"
            ]
          }
        },
        "b0a6386c48ac42b882cb3d614b74a860": {
          "model_module": "@jupyter-widgets/base",
          "model_name": "LayoutModel",
          "state": {
            "_view_name": "LayoutView",
            "grid_template_rows": null,
            "right": null,
            "justify_content": null,
            "_view_module": "@jupyter-widgets/base",
            "overflow": null,
            "_model_module_version": "1.2.0",
            "_view_count": null,
            "flex_flow": null,
            "width": null,
            "min_width": null,
            "border": null,
            "align_items": null,
            "bottom": null,
            "_model_module": "@jupyter-widgets/base",
            "top": null,
            "grid_column": null,
            "overflow_y": null,
            "overflow_x": null,
            "grid_auto_flow": null,
            "grid_area": null,
            "grid_template_columns": null,
            "flex": null,
            "_model_name": "LayoutModel",
            "justify_items": null,
            "grid_row": null,
            "max_height": null,
            "align_content": null,
            "visibility": null,
            "align_self": null,
            "height": null,
            "min_height": null,
            "padding": null,
            "grid_auto_rows": null,
            "grid_gap": null,
            "max_width": null,
            "order": null,
            "_view_module_version": "1.2.0",
            "grid_template_areas": null,
            "object_position": null,
            "object_fit": null,
            "grid_auto_columns": null,
            "margin": null,
            "display": null,
            "left": null
          }
        },
        "53020e81c6bc4599b753f0868b10134f": {
          "model_module": "@jupyter-widgets/controls",
          "model_name": "IntProgressModel",
          "state": {
            "_view_name": "ProgressView",
            "style": "IPY_MODEL_b05248fdea99419190006593f52da217",
            "_dom_classes": [],
            "description": "",
            "_model_name": "IntProgressModel",
            "bar_style": "success",
            "max": 1,
            "_view_module": "@jupyter-widgets/controls",
            "_model_module_version": "1.5.0",
            "value": 1,
            "_view_count": null,
            "_view_module_version": "1.5.0",
            "orientation": "horizontal",
            "min": 0,
            "description_tooltip": null,
            "_model_module": "@jupyter-widgets/controls",
            "layout": "IPY_MODEL_19ab564792924bf69cc674f7db18b697"
          }
        },
        "f15e9c189c4345a0b18cebf2ed381caa": {
          "model_module": "@jupyter-widgets/controls",
          "model_name": "HTMLModel",
          "state": {
            "_view_name": "HTMLView",
            "style": "IPY_MODEL_cbe8d1b889334f36973b6f736d1aa084",
            "_dom_classes": [],
            "description": "",
            "_model_name": "HTMLModel",
            "placeholder": "​",
            "_view_module": "@jupyter-widgets/controls",
            "_model_module_version": "1.5.0",
            "value": " 1654784/? [00:00&lt;00:00, 5642231.66it/s]",
            "_view_count": null,
            "_view_module_version": "1.5.0",
            "description_tooltip": null,
            "_model_module": "@jupyter-widgets/controls",
            "layout": "IPY_MODEL_9e82f5e9f715431fb2b97a67449330dc"
          }
        },
        "b05248fdea99419190006593f52da217": {
          "model_module": "@jupyter-widgets/controls",
          "model_name": "ProgressStyleModel",
          "state": {
            "_view_name": "StyleView",
            "_model_name": "ProgressStyleModel",
            "description_width": "initial",
            "_view_module": "@jupyter-widgets/base",
            "_model_module_version": "1.5.0",
            "_view_count": null,
            "_view_module_version": "1.2.0",
            "bar_color": null,
            "_model_module": "@jupyter-widgets/controls"
          }
        },
        "19ab564792924bf69cc674f7db18b697": {
          "model_module": "@jupyter-widgets/base",
          "model_name": "LayoutModel",
          "state": {
            "_view_name": "LayoutView",
            "grid_template_rows": null,
            "right": null,
            "justify_content": null,
            "_view_module": "@jupyter-widgets/base",
            "overflow": null,
            "_model_module_version": "1.2.0",
            "_view_count": null,
            "flex_flow": null,
            "width": null,
            "min_width": null,
            "border": null,
            "align_items": null,
            "bottom": null,
            "_model_module": "@jupyter-widgets/base",
            "top": null,
            "grid_column": null,
            "overflow_y": null,
            "overflow_x": null,
            "grid_auto_flow": null,
            "grid_area": null,
            "grid_template_columns": null,
            "flex": null,
            "_model_name": "LayoutModel",
            "justify_items": null,
            "grid_row": null,
            "max_height": null,
            "align_content": null,
            "visibility": null,
            "align_self": null,
            "height": null,
            "min_height": null,
            "padding": null,
            "grid_auto_rows": null,
            "grid_gap": null,
            "max_width": null,
            "order": null,
            "_view_module_version": "1.2.0",
            "grid_template_areas": null,
            "object_position": null,
            "object_fit": null,
            "grid_auto_columns": null,
            "margin": null,
            "display": null,
            "left": null
          }
        },
        "cbe8d1b889334f36973b6f736d1aa084": {
          "model_module": "@jupyter-widgets/controls",
          "model_name": "DescriptionStyleModel",
          "state": {
            "_view_name": "StyleView",
            "_model_name": "DescriptionStyleModel",
            "description_width": "",
            "_view_module": "@jupyter-widgets/base",
            "_model_module_version": "1.5.0",
            "_view_count": null,
            "_view_module_version": "1.2.0",
            "_model_module": "@jupyter-widgets/controls"
          }
        },
        "9e82f5e9f715431fb2b97a67449330dc": {
          "model_module": "@jupyter-widgets/base",
          "model_name": "LayoutModel",
          "state": {
            "_view_name": "LayoutView",
            "grid_template_rows": null,
            "right": null,
            "justify_content": null,
            "_view_module": "@jupyter-widgets/base",
            "overflow": null,
            "_model_module_version": "1.2.0",
            "_view_count": null,
            "flex_flow": null,
            "width": null,
            "min_width": null,
            "border": null,
            "align_items": null,
            "bottom": null,
            "_model_module": "@jupyter-widgets/base",
            "top": null,
            "grid_column": null,
            "overflow_y": null,
            "overflow_x": null,
            "grid_auto_flow": null,
            "grid_area": null,
            "grid_template_columns": null,
            "flex": null,
            "_model_name": "LayoutModel",
            "justify_items": null,
            "grid_row": null,
            "max_height": null,
            "align_content": null,
            "visibility": null,
            "align_self": null,
            "height": null,
            "min_height": null,
            "padding": null,
            "grid_auto_rows": null,
            "grid_gap": null,
            "max_width": null,
            "order": null,
            "_view_module_version": "1.2.0",
            "grid_template_areas": null,
            "object_position": null,
            "object_fit": null,
            "grid_auto_columns": null,
            "margin": null,
            "display": null,
            "left": null
          }
        },
        "cbdcf20682414a78b515abe4cc8085dd": {
          "model_module": "@jupyter-widgets/controls",
          "model_name": "HBoxModel",
          "state": {
            "_view_name": "HBoxView",
            "_dom_classes": [],
            "_model_name": "HBoxModel",
            "_view_module": "@jupyter-widgets/controls",
            "_model_module_version": "1.5.0",
            "_view_count": null,
            "_view_module_version": "1.5.0",
            "box_style": "",
            "layout": "IPY_MODEL_5c8b0c6272ea4e35b88cb02fe51f1dce",
            "_model_module": "@jupyter-widgets/controls",
            "children": [
              "IPY_MODEL_7b329480158841d0a36d380294a87f84",
              "IPY_MODEL_2165f584703b4e3f9321211614f6d243"
            ]
          }
        },
        "5c8b0c6272ea4e35b88cb02fe51f1dce": {
          "model_module": "@jupyter-widgets/base",
          "model_name": "LayoutModel",
          "state": {
            "_view_name": "LayoutView",
            "grid_template_rows": null,
            "right": null,
            "justify_content": null,
            "_view_module": "@jupyter-widgets/base",
            "overflow": null,
            "_model_module_version": "1.2.0",
            "_view_count": null,
            "flex_flow": null,
            "width": null,
            "min_width": null,
            "border": null,
            "align_items": null,
            "bottom": null,
            "_model_module": "@jupyter-widgets/base",
            "top": null,
            "grid_column": null,
            "overflow_y": null,
            "overflow_x": null,
            "grid_auto_flow": null,
            "grid_area": null,
            "grid_template_columns": null,
            "flex": null,
            "_model_name": "LayoutModel",
            "justify_items": null,
            "grid_row": null,
            "max_height": null,
            "align_content": null,
            "visibility": null,
            "align_self": null,
            "height": null,
            "min_height": null,
            "padding": null,
            "grid_auto_rows": null,
            "grid_gap": null,
            "max_width": null,
            "order": null,
            "_view_module_version": "1.2.0",
            "grid_template_areas": null,
            "object_position": null,
            "object_fit": null,
            "grid_auto_columns": null,
            "margin": null,
            "display": null,
            "left": null
          }
        },
        "7b329480158841d0a36d380294a87f84": {
          "model_module": "@jupyter-widgets/controls",
          "model_name": "IntProgressModel",
          "state": {
            "_view_name": "ProgressView",
            "style": "IPY_MODEL_9c53f4ad87c14b65ac82b9b533996d4b",
            "_dom_classes": [],
            "description": "",
            "_model_name": "IntProgressModel",
            "bar_style": "info",
            "max": 1,
            "_view_module": "@jupyter-widgets/controls",
            "_model_module_version": "1.5.0",
            "value": 0,
            "_view_count": null,
            "_view_module_version": "1.5.0",
            "orientation": "horizontal",
            "min": 0,
            "description_tooltip": null,
            "_model_module": "@jupyter-widgets/controls",
            "layout": "IPY_MODEL_ccb6ca158a484af6ab8372c9bcd4f6a9"
          }
        },
        "2165f584703b4e3f9321211614f6d243": {
          "model_module": "@jupyter-widgets/controls",
          "model_name": "HTMLModel",
          "state": {
            "_view_name": "HTMLView",
            "style": "IPY_MODEL_57879557e3024711860fea6a0d54b696",
            "_dom_classes": [],
            "description": "",
            "_model_name": "HTMLModel",
            "placeholder": "​",
            "_view_module": "@jupyter-widgets/controls",
            "_model_module_version": "1.5.0",
            "value": " 0/? [00:00&lt;?, ?it/s]",
            "_view_count": null,
            "_view_module_version": "1.5.0",
            "description_tooltip": null,
            "_model_module": "@jupyter-widgets/controls",
            "layout": "IPY_MODEL_9a23f9f4ed34440293a7b369d9ffbdf4"
          }
        },
        "9c53f4ad87c14b65ac82b9b533996d4b": {
          "model_module": "@jupyter-widgets/controls",
          "model_name": "ProgressStyleModel",
          "state": {
            "_view_name": "StyleView",
            "_model_name": "ProgressStyleModel",
            "description_width": "initial",
            "_view_module": "@jupyter-widgets/base",
            "_model_module_version": "1.5.0",
            "_view_count": null,
            "_view_module_version": "1.2.0",
            "bar_color": null,
            "_model_module": "@jupyter-widgets/controls"
          }
        },
        "ccb6ca158a484af6ab8372c9bcd4f6a9": {
          "model_module": "@jupyter-widgets/base",
          "model_name": "LayoutModel",
          "state": {
            "_view_name": "LayoutView",
            "grid_template_rows": null,
            "right": null,
            "justify_content": null,
            "_view_module": "@jupyter-widgets/base",
            "overflow": null,
            "_model_module_version": "1.2.0",
            "_view_count": null,
            "flex_flow": null,
            "width": null,
            "min_width": null,
            "border": null,
            "align_items": null,
            "bottom": null,
            "_model_module": "@jupyter-widgets/base",
            "top": null,
            "grid_column": null,
            "overflow_y": null,
            "overflow_x": null,
            "grid_auto_flow": null,
            "grid_area": null,
            "grid_template_columns": null,
            "flex": null,
            "_model_name": "LayoutModel",
            "justify_items": null,
            "grid_row": null,
            "max_height": null,
            "align_content": null,
            "visibility": null,
            "align_self": null,
            "height": null,
            "min_height": null,
            "padding": null,
            "grid_auto_rows": null,
            "grid_gap": null,
            "max_width": null,
            "order": null,
            "_view_module_version": "1.2.0",
            "grid_template_areas": null,
            "object_position": null,
            "object_fit": null,
            "grid_auto_columns": null,
            "margin": null,
            "display": null,
            "left": null
          }
        },
        "57879557e3024711860fea6a0d54b696": {
          "model_module": "@jupyter-widgets/controls",
          "model_name": "DescriptionStyleModel",
          "state": {
            "_view_name": "StyleView",
            "_model_name": "DescriptionStyleModel",
            "description_width": "",
            "_view_module": "@jupyter-widgets/base",
            "_model_module_version": "1.5.0",
            "_view_count": null,
            "_view_module_version": "1.2.0",
            "_model_module": "@jupyter-widgets/controls"
          }
        },
        "9a23f9f4ed34440293a7b369d9ffbdf4": {
          "model_module": "@jupyter-widgets/base",
          "model_name": "LayoutModel",
          "state": {
            "_view_name": "LayoutView",
            "grid_template_rows": null,
            "right": null,
            "justify_content": null,
            "_view_module": "@jupyter-widgets/base",
            "overflow": null,
            "_model_module_version": "1.2.0",
            "_view_count": null,
            "flex_flow": null,
            "width": null,
            "min_width": null,
            "border": null,
            "align_items": null,
            "bottom": null,
            "_model_module": "@jupyter-widgets/base",
            "top": null,
            "grid_column": null,
            "overflow_y": null,
            "overflow_x": null,
            "grid_auto_flow": null,
            "grid_area": null,
            "grid_template_columns": null,
            "flex": null,
            "_model_name": "LayoutModel",
            "justify_items": null,
            "grid_row": null,
            "max_height": null,
            "align_content": null,
            "visibility": null,
            "align_self": null,
            "height": null,
            "min_height": null,
            "padding": null,
            "grid_auto_rows": null,
            "grid_gap": null,
            "max_width": null,
            "order": null,
            "_view_module_version": "1.2.0",
            "grid_template_areas": null,
            "object_position": null,
            "object_fit": null,
            "grid_auto_columns": null,
            "margin": null,
            "display": null,
            "left": null
          }
        }
      }
    }
  },
  "cells": [
    {
      "cell_type": "markdown",
      "metadata": {
        "id": "9fjsMehrN3k4",
        "colab_type": "text"
      },
      "source": [
        "# CSCI 4155/6505 - A3 - To be submitted individually\n",
        "\n",
        "**[Total of 4 points]**\n",
        "\n",
        "For this assignment, you will be modifying the functionality of some base code that implements a convolutional network in PyTorch. Follow along this notebook in Google Colab, running each code block as you go, and insert answers where appropriate.\n",
        "(Optional note: this assignment builds directly on last week's lab where you modified parts of the PyTorch tutorials!)\n",
        "\n"
      ]
    },
    {
      "cell_type": "code",
      "metadata": {
        "id": "WD81nHOfrEcx",
        "colab_type": "code",
        "colab": {}
      },
      "source": [
        "%matplotlib inline"
      ],
      "execution_count": 0,
      "outputs": []
    },
    {
      "cell_type": "code",
      "metadata": {
        "id": "MDbQh7QMrEc3",
        "colab_type": "code",
        "colab": {}
      },
      "source": [
        "# PyTorch packages\n",
        "import torch\n",
        "import torch.nn as nn\n",
        "import torch.nn.functional as F\n",
        "import torch.optim as optim\n",
        "\n",
        "# torchvision for loading MNIST dataset\n",
        "import torchvision\n",
        "from torchvision import datasets, transforms\n",
        "\n",
        "# For plotting\n",
        "import matplotlib.pyplot as plt"
      ],
      "execution_count": 0,
      "outputs": []
    },
    {
      "cell_type": "markdown",
      "metadata": {
        "id": "EM7iYDxkMIps",
        "colab_type": "text"
      },
      "source": [
        "First, we have to load the MNIST dataset. Try running the code block below, and if it executes successfully, you should see a printout saying that there are 60,000 training examples and 10,000 test examples. A folder titled \"mnist_data\" will appear in your left sidebar if you click on the folder icon."
      ]
    },
    {
      "cell_type": "code",
      "metadata": {
        "id": "pxCQM2iIrEc7",
        "colab_type": "code",
        "outputId": "b7741fbc-f076-4067-dfbe-177554662cce",
        "colab": {
          "base_uri": "https://localhost:8080/",
          "height": 383,
          "referenced_widgets": [
            "456705b55f1849e49b5ae390e96a33ad",
            "b789c04097d7418894d595d2b4f78600",
            "f84b1cf367b8489697b5b07670af1a3b",
            "4b00c222cd6549e4987573b9e7b48041",
            "104d412d2bd14cb6af50e53fe9e82b45",
            "3623f7718a964d8484385d64ad93c13a",
            "909e8f49e6904023b5d93884e940eebe",
            "ee93ddabb2ea493b8771fcd3edf04081",
            "76c4f7a4045749a9b5aa4c3d9074c249",
            "eff995f3d904470d8f0fba3c291f72b6",
            "2d049d89b70147e98bb32ffc30880600",
            "55bfdc537a5b439c9f84864868df20e7",
            "993ded87369e452588d03ea0e5df6b70",
            "21f5b23ecc444fe2801bd9a1e951e579",
            "2ea802c5d6184d088beb7afce301d426",
            "b89508d6fb2542518663ffb32ae86509",
            "b1fe0ed4b2e140b0bd97d5dfa94c99d2",
            "b0a6386c48ac42b882cb3d614b74a860",
            "53020e81c6bc4599b753f0868b10134f",
            "f15e9c189c4345a0b18cebf2ed381caa",
            "b05248fdea99419190006593f52da217",
            "19ab564792924bf69cc674f7db18b697",
            "cbe8d1b889334f36973b6f736d1aa084",
            "9e82f5e9f715431fb2b97a67449330dc",
            "cbdcf20682414a78b515abe4cc8085dd",
            "5c8b0c6272ea4e35b88cb02fe51f1dce",
            "7b329480158841d0a36d380294a87f84",
            "2165f584703b4e3f9321211614f6d243",
            "9c53f4ad87c14b65ac82b9b533996d4b",
            "ccb6ca158a484af6ab8372c9bcd4f6a9",
            "57879557e3024711860fea6a0d54b696",
            "9a23f9f4ed34440293a7b369d9ffbdf4"
          ]
        }
      },
      "source": [
        "# Download the training data\n",
        "train_data = datasets.MNIST('./mnist_data', download=True, train=True,\n",
        "                            transform=transforms.Compose([\n",
        "                              transforms.ToTensor(),\n",
        "                              transforms.Normalize((0.5,), (0.5,))\n",
        "                            ]))\n",
        "\n",
        "# Download the test data\n",
        "test_data = datasets.MNIST('./mnist_data', download=True, train=False,\n",
        "                            transform=transforms.Compose([\n",
        "                              transforms.ToTensor(),\n",
        "                              transforms.Normalize((0.5,), (0.5,))\n",
        "                            ]))\n",
        "\n",
        "classes = [i for i in range(10)]\n",
        "\n",
        "print(\"Training examples: \", len(train_data))\n",
        "print(\"Test examples: \", len(test_data))"
      ],
      "execution_count": 3,
      "outputs": [
        {
          "output_type": "stream",
          "text": [
            "Downloading http://yann.lecun.com/exdb/mnist/train-images-idx3-ubyte.gz to ./mnist_data/MNIST/raw/train-images-idx3-ubyte.gz\n"
          ],
          "name": "stdout"
        },
        {
          "output_type": "display_data",
          "data": {
            "application/vnd.jupyter.widget-view+json": {
              "model_id": "456705b55f1849e49b5ae390e96a33ad",
              "version_minor": 0,
              "version_major": 2
            },
            "text/plain": [
              "HBox(children=(IntProgress(value=1, bar_style='info', max=1), HTML(value='')))"
            ]
          },
          "metadata": {
            "tags": []
          }
        },
        {
          "output_type": "stream",
          "text": [
            "Extracting ./mnist_data/MNIST/raw/train-images-idx3-ubyte.gz to ./mnist_data/MNIST/raw\n",
            "Downloading http://yann.lecun.com/exdb/mnist/train-labels-idx1-ubyte.gz to ./mnist_data/MNIST/raw/train-labels-idx1-ubyte.gz\n"
          ],
          "name": "stdout"
        },
        {
          "output_type": "display_data",
          "data": {
            "application/vnd.jupyter.widget-view+json": {
              "model_id": "76c4f7a4045749a9b5aa4c3d9074c249",
              "version_minor": 0,
              "version_major": 2
            },
            "text/plain": [
              "HBox(children=(IntProgress(value=1, bar_style='info', max=1), HTML(value='')))"
            ]
          },
          "metadata": {
            "tags": []
          }
        },
        {
          "output_type": "stream",
          "text": [
            "Extracting ./mnist_data/MNIST/raw/train-labels-idx1-ubyte.gz to ./mnist_data/MNIST/raw\n",
            "Downloading http://yann.lecun.com/exdb/mnist/t10k-images-idx3-ubyte.gz to ./mnist_data/MNIST/raw/t10k-images-idx3-ubyte.gz\n"
          ],
          "name": "stdout"
        },
        {
          "output_type": "display_data",
          "data": {
            "application/vnd.jupyter.widget-view+json": {
              "model_id": "b1fe0ed4b2e140b0bd97d5dfa94c99d2",
              "version_minor": 0,
              "version_major": 2
            },
            "text/plain": [
              "HBox(children=(IntProgress(value=1, bar_style='info', max=1), HTML(value='')))"
            ]
          },
          "metadata": {
            "tags": []
          }
        },
        {
          "output_type": "stream",
          "text": [
            "Extracting ./mnist_data/MNIST/raw/t10k-images-idx3-ubyte.gz to ./mnist_data/MNIST/raw\n",
            "Downloading http://yann.lecun.com/exdb/mnist/t10k-labels-idx1-ubyte.gz to ./mnist_data/MNIST/raw/t10k-labels-idx1-ubyte.gz\n",
            "\n",
            "\n"
          ],
          "name": "stdout"
        },
        {
          "output_type": "display_data",
          "data": {
            "application/vnd.jupyter.widget-view+json": {
              "model_id": "cbdcf20682414a78b515abe4cc8085dd",
              "version_minor": 0,
              "version_major": 2
            },
            "text/plain": [
              "HBox(children=(IntProgress(value=1, bar_style='info', max=1), HTML(value='')))"
            ]
          },
          "metadata": {
            "tags": []
          }
        },
        {
          "output_type": "stream",
          "text": [
            "Extracting ./mnist_data/MNIST/raw/t10k-labels-idx1-ubyte.gz to ./mnist_data/MNIST/raw\n",
            "Processing...\n",
            "Done!\n",
            "Training examples:  60000\n",
            "Test examples:  10000\n"
          ],
          "name": "stdout"
        }
      ]
    },
    {
      "cell_type": "markdown",
      "metadata": {
        "id": "iQAh-OPINJeU",
        "colab_type": "text"
      },
      "source": [
        "For now we will assume that we are using the MNIST dataset. I want to call a single function that encapsulates all parts of the process: initializing the network, training, and testing. Passing to this function as arguments, I want to be able to control some basic functionality of the learning process:\n",
        "\n",
        "*   Number of epochs (repetitions of the entire training data)\n",
        "*   Batch size (how many training examples to average over per gradient update)\n",
        "\n",
        "The function call will look like:\n",
        "\n",
        "```\n",
        "losses, train_acc, test_acc = eval_net(epochs, batch_size)\n",
        "```\n",
        "\n",
        "*   `losses` will be a list of all the losses I saw during training: one for every update.\n",
        "*   `train_acc` will be a single scalar: the accuracy on the training data after training is finished.\n",
        "*   `test_acc` will be a single scalar: the accuracy on the test data after training is finished\n",
        "\n",
        "Below is the implementation of `eval_net()`.\n",
        "\n",
        "(Optional note: If the following code is confusing, please note that this is exactly the same as what you already went through step-by-step in last week's lab, so you may need to review that first.)"
      ]
    },
    {
      "cell_type": "code",
      "metadata": {
        "id": "e1VHebuHrEdC",
        "colab_type": "code",
        "colab": {}
      },
      "source": [
        "def eval_net(epochs, batch_size):\n",
        "\n",
        "  ##### Prepare return values ##################################################\n",
        "  losses = []\n",
        "  train_acc = 0\n",
        "  test_acc = 0\n",
        "\n",
        "  ##### Create iterators for each dataset ######################################\n",
        "  train_loader = torch.utils.data.DataLoader(train_data, batch_size=batch_size, shuffle=True)\n",
        "  test_loader = torch.utils.data.DataLoader(test_data, batch_size=batch_size, shuffle=False)\n",
        "\n",
        "  ##### Define the network #####################################################\n",
        "  class Net(nn.Module):\n",
        "    def __init__(self):\n",
        "      super(Net, self).__init__()\n",
        "      self.conv1 = nn.Conv2d(1, 6, 3)     # 1 channel in, 6 filters out, 3x3 filters\n",
        "      self.pool = nn.MaxPool2d(2, 2)      # 2x2 pooling, with a stride of 2 (move the window by 2 pixels)\n",
        "      self.conv2 = nn.Conv2d(6, 16, 3)    # 6 filters in, 16 filters out, 3x3 filters\n",
        "      self.fc1 = nn.Linear(16 * 5 * 5, 120) # the 16 filtered images are reduced to 5x5 now, connect to 120 hidden units out\n",
        "      self.fc2 = nn.Linear(120, 84)       # 120 hidden units in, 84 hidden units out\n",
        "      self.fc3 = nn.Linear(84, 10)        # 84 hidden units in, 10 outputs units\n",
        "\n",
        "    def forward(self, x):\n",
        "      x = self.pool(F.relu(self.conv1(x)))\n",
        "      x = self.pool(F.relu(self.conv2(x)))\n",
        "      x = x.view(-1, 16 * 5 * 5) # .view() is similar to .reshape(), so this flattens x into a vector\n",
        "      x = F.relu(self.fc1(x))\n",
        "      x = F.relu(self.fc2(x))\n",
        "      x = F.log_softmax(self.fc3(x), dim=1)\n",
        "      return x\n",
        "  \n",
        "  ##### Initialize the network and optimizer ###################################\n",
        "  print(\"Initializing the network ...\")\n",
        "  net = Net()\n",
        "  criterion = nn.CrossEntropyLoss()\n",
        "  optimizer = optim.SGD(net.parameters(), lr=0.001, momentum=0.9) # lr = learning rate/step size\n",
        "\n",
        "  ##### Training the network ###################################################\n",
        "  print(\"Training the network ...\")\n",
        "  for e in range(epochs):  # loop over the dataset multiple times\n",
        "    print(\"Epoch: \", e+1)\n",
        "    for i, data in enumerate(train_loader, 0):\n",
        "      inputs, labels = data\n",
        "      optimizer.zero_grad() # zero the parameter gradients\n",
        "\n",
        "      outputs = net(inputs) # forward pass\n",
        "      loss = criterion(outputs, labels) # compute loss\n",
        "      loss.backward() # backward pass\n",
        "      optimizer.step() # gradient descent update\n",
        "\n",
        "      losses.append(loss.item())\n",
        "\n",
        "  ##### Evaluating the network on training data ################################\n",
        "  print(\"Evaluating on training data ...\")\n",
        "  correct = 0\n",
        "  total = 0\n",
        "  with torch.no_grad():\n",
        "    for data in train_loader:\n",
        "      inputs, labels = data\n",
        "      outputs = net(inputs)\n",
        "      _, predicted = torch.max(outputs.data, 1)\n",
        "      total += labels.size(0)\n",
        "      correct += (predicted == labels).sum().item()\n",
        "  train_acc = correct / total\n",
        "\n",
        "  ##### Evaluating the network on test data ####################################\n",
        "  print(\"Evaluating on test data ...\")\n",
        "  correct = 0\n",
        "  total = 0\n",
        "  with torch.no_grad():\n",
        "    for data in test_loader:\n",
        "      inputs, labels = data\n",
        "      outputs = net(inputs)\n",
        "      _, predicted = torch.max(outputs.data, 1)\n",
        "      total += labels.size(0)\n",
        "      correct += (predicted == labels).sum().item()\n",
        "  test_acc = correct / total\n",
        "\n",
        "  return losses, train_acc, test_acc"
      ],
      "execution_count": 0,
      "outputs": []
    },
    {
      "cell_type": "markdown",
      "metadata": {
        "id": "vcnm1UqkVMQW",
        "colab_type": "text"
      },
      "source": [
        "Now we can try out our implementation!"
      ]
    },
    {
      "cell_type": "code",
      "metadata": {
        "id": "e9uU7BjzVjq2",
        "colab_type": "code",
        "outputId": "3c24d8ec-f6a2-472a-f3d4-d725972ae67a",
        "colab": {
          "base_uri": "https://localhost:8080/",
          "height": 401
        }
      },
      "source": [
        "losses, train_acc, test_acc = eval_net(epochs=2, batch_size=100)\n",
        "print(\"Training accuracy: \", train_acc)\n",
        "print(\"Test accuracy: \", test_acc)\n",
        "plt.plot(losses)\n",
        "plt.show()"
      ],
      "execution_count": 0,
      "outputs": [
        {
          "output_type": "stream",
          "text": [
            "Initializing the network ...\n",
            "Training the network ...\n",
            "Epoch:  1\n",
            "Epoch:  2\n",
            "Evaluating on training data ...\n",
            "Evaluating on test data ...\n",
            "Training accuracy:  0.8711833333333333\n",
            "Test accuracy:  0.8795\n"
          ],
          "name": "stdout"
        },
        {
          "output_type": "display_data",
          "data": {
            "image/png": "[encoded data removed]",
            "text/plain": [
              "<Figure size 432x288 with 1 Axes>"
            ]
          },
          "metadata": {
            "tags": []
          }
        }
      ]
    },
    {
      "cell_type": "markdown",
      "metadata": {
        "id": "rxMqVf9cyS3H",
        "colab_type": "text"
      },
      "source": [
        "# Questions\n",
        "\n",
        "For the following questions, you will mostly be copying and pasting the implementation of `eval_net()` and modifying a few things.\n",
        "\n",
        "\n",
        "---\n",
        "---\n",
        "---\n",
        "\n",
        "\n",
        "a) **[1 point]** You will implement a modification called `eval_net_a()`. Since we are following the implementation in `eval_net()`, assume that there are always 2 convolutional layers, and 2 fully connected hidden layers (the layer of size 10 is the output). We want to control the number of filters and the size of the hidden layers. As arguments, we will pass the epoch and batch_size as before, but also pass a list containing 4 elements: \n",
        "\n",
        "*   The number of filters in convolutional layer 1\n",
        "*   The number of filters in convolutional layer 2\n",
        "*   The number of hidden nodes in fully connected layer 1\n",
        "*   The number of hidden nodes in fully connected layer 2\n",
        "\n",
        "```\n",
        "num_params = [num_filters1, num_filters2, num_hidden1, num_hidden2]\n",
        "```"
      ]
    },
    {
      "cell_type": "code",
      "metadata": {
        "id": "_BIKWtRtdzET",
        "colab_type": "code",
        "colab": {}
      },
      "source": [
        "def eval_net_a(epochs, batch_size, num_params):\n",
        "  # Insert your answer here\n",
        "  ##### Prepare return values ##################################################\n",
        "  losses = []\n",
        "  train_acc = 0\n",
        "  test_acc = 0\n",
        "  conv1_filters = num_params[0]\n",
        "  conv2_filters = num_params[1]\n",
        "  hu_layer1 = num_params[2]\n",
        "  hu_layer2 = num_params[3]\n",
        "\n",
        "  ##### Create iterators for each dataset ######################################\n",
        "  train_loader = torch.utils.data.DataLoader(train_data, batch_size=batch_size, shuffle=True)\n",
        "  test_loader = torch.utils.data.DataLoader(test_data, batch_size=batch_size, shuffle=False)\n",
        "\n",
        "  ##### Define the network #####################################################\n",
        "  class Net(nn.Module):\n",
        "    def __init__(self):\n",
        "      super(Net, self).__init__()\n",
        "      self.conv1 = nn.Conv2d(1, conv1_filters, 3)     # 1 channel in, 6 filters out, 3x3 filters\n",
        "      self.pool = nn.MaxPool2d(2, 2)      # 2x2 pooling, with a stride of 2 (move the window by 2 pixels)\n",
        "      self.conv2 = nn.Conv2d(conv1_filters, conv2_filters, 3)    # 6 filters in, 16 filters out, 3x3 filters\n",
        "      self.fc1 = nn.Linear(conv2_filters * 5 * 5, hu_layer1) # the 16 filtered images are reduced to 5x5 now, connect to 120 hidden units out\n",
        "      self.fc2 = nn.Linear(hu_layer1, hu_layer2)       # 120 hidden units in, 84 hidden units out\n",
        "      self.fc3 = nn.Linear(hu_layer2, 10)        # 84 hidden units in, 10 outputs units\n",
        "\n",
        "    def forward(self, x):\n",
        "      x = self.pool(F.relu(self.conv1(x)))\n",
        "      x = self.pool(F.relu(self.conv2(x)))\n",
        "      x = x.view(-1, conv2_filters * 5 * 5) # .view() is similar to .reshape(), so this flattens x into a vector\n",
        "      x = F.relu(self.fc1(x))\n",
        "      x = F.relu(self.fc2(x))\n",
        "      x = F.log_softmax(self.fc3(x), dim=1)\n",
        "      return x\n",
        "  \n",
        "  ##### Initialize the network and optimizer ###################################\n",
        "  print(\"Initializing the network ...\")\n",
        "  net = Net()\n",
        "  criterion = nn.CrossEntropyLoss()\n",
        "  optimizer = optim.SGD(net.parameters(), lr=0.001, momentum=0.9) # lr = learning rate/step size\n",
        "\n",
        "  ##### Training the network ###################################################\n",
        "  print(\"Training the network ...\")\n",
        "  for e in range(epochs):  # loop over the dataset multiple times\n",
        "    print(\"Epoch: \", e+1)\n",
        "    for i, data in enumerate(train_loader, 0):\n",
        "      inputs, labels = data\n",
        "      optimizer.zero_grad() # zero the parameter gradients\n",
        "\n",
        "      outputs = net(inputs) # forward pass\n",
        "      loss = criterion(outputs, labels) # compute loss\n",
        "      loss.backward() # backward pass\n",
        "      optimizer.step() # gradient descent update\n",
        "\n",
        "      losses.append(loss.item())\n",
        "\n",
        "  ##### Evaluating the network on training data ################################\n",
        "  print(\"Evaluating on training data ...\")\n",
        "  correct = 0\n",
        "  total = 0\n",
        "  with torch.no_grad():\n",
        "    for data in train_loader:\n",
        "      inputs, labels = data\n",
        "      outputs = net(inputs)\n",
        "      _, predicted = torch.max(outputs.data, 1)\n",
        "      total += labels.size(0)\n",
        "      correct += (predicted == labels).sum().item()\n",
        "  train_acc = correct / total\n",
        "\n",
        "  ##### Evaluating the network on test data ####################################\n",
        "  print(\"Evaluating on test data ...\")\n",
        "  correct = 0\n",
        "  total = 0\n",
        "  with torch.no_grad():\n",
        "    for data in test_loader:\n",
        "      inputs, labels = data\n",
        "      outputs = net(inputs)\n",
        "      _, predicted = torch.max(outputs.data, 1)\n",
        "      total += labels.size(0)\n",
        "      correct += (predicted == labels).sum().item()\n",
        "  test_acc = correct / total\n",
        "\n",
        "  return losses, train_acc, test_acc"
      ],
      "execution_count": 0,
      "outputs": []
    },
    {
      "cell_type": "code",
      "metadata": {
        "id": "iU-u4Ar0eUFC",
        "colab_type": "code",
        "outputId": "35c3e0ca-cd3c-4ce0-d86f-d83a3895c894",
        "colab": {
          "base_uri": "https://localhost:8080/",
          "height": 401
        }
      },
      "source": [
        "# We will call your answer like this:\n",
        "losses, train_acc, test_acc = eval_net_a(epochs=2, batch_size=100, num_params=[6, 16, 120, 84])\n",
        "print(\"Training accuracy: \", train_acc)\n",
        "print(\"Test accuracy: \", test_acc)\n",
        "plt.plot(losses)\n",
        "plt.show()"
      ],
      "execution_count": 0,
      "outputs": [
        {
          "output_type": "stream",
          "text": [
            "Initializing the network ...\n",
            "Training the network ...\n",
            "Epoch:  1\n",
            "Epoch:  2\n",
            "Evaluating on training data ...\n",
            "Evaluating on test data ...\n",
            "Training accuracy:  0.8205333333333333\n",
            "Test accuracy:  0.8291\n"
          ],
          "name": "stdout"
        },
        {
          "output_type": "display_data",
          "data": {
            "image/png": "[encoded data removed]",
            "text/plain": [
              "<Figure size 432x288 with 1 Axes>"
            ]
          },
          "metadata": {
            "tags": []
          }
        }
      ]
    },
    {
      "cell_type": "markdown",
      "metadata": {
        "id": "LzFm3vGLgpAo",
        "colab_type": "text"
      },
      "source": [
        "---\n",
        "---\n",
        "---\n",
        "### part-B Version 1\n",
        "b) **[1 point]** You will implement a modification called `eval_net_b()`. **Remove the second convolutional layer from `eval_net()`.** Now there should only be 1 convolutional layer, followed by 1 pooling layer, and 2 fully connected hidden layers. The convolutional filters are currently 3x3 and the pooling is currently 2x2. We will keep these square, but we want to control the size of the filters and the size of the pooling layer. We will add a new argument that controls these:\n",
        "\n",
        "```\n",
        "sizes = [filter_size, pooling_size]\n",
        "```\n",
        "\n",
        "**Be warned:** by modifying the filter sizes, you will also have to modify the total number of inputs into the first hidden layer. It was hard-coded at `16*5*5`, because we figured out that the images were reduced to 5x5 images after the convolution and pooling, but this will no longer be true. **Hint: use `x.size()` to get the proper dimensions.**"
      ]
    },
    {
      "cell_type": "code",
      "metadata": {
        "id": "_2gOfvYlilnO",
        "colab_type": "code",
        "colab": {}
      },
      "source": [
        "def eval_net_b(epochs, batch_size, sizes):\n",
        "  # Insert your answer here\n",
        "  ##### Prepare return values ##################################################\n",
        "  losses = []\n",
        "  train_acc = 0\n",
        "  test_acc = 0\n",
        "  fs = sizes[0]\n",
        "  ps = sizes[1]\n",
        "\n",
        "  ##### Create iterators for each dataset ######################################\n",
        "  train_loader = torch.utils.data.DataLoader(train_data, batch_size=batch_size, shuffle=True)\n",
        "  test_loader = torch.utils.data.DataLoader(test_data, batch_size=batch_size, shuffle=False)\n",
        "\n",
        "  ##### Define the network #####################################################\n",
        "  class Net(nn.Module):\n",
        "    def __init__(self):\n",
        "      super(Net, self).__init__()\n",
        "      self.conv1 = nn.Conv2d(1, 6, fs)     # 1 channel in, 6 filters out, 3x3 filters\n",
        "      self.pool = nn.MaxPool2d(ps, ps)      # 2x2 pooling, with a stride of 2 (move the window by 2 pixels)\n",
        "    #   self.conv2 = nn.Conv2d(6, 16, 3)    # 6 filters in, 16 filters out, 3x3 filters\n",
        "      self.fc1 = nn.Linear(6 * 13 * 13, 120) # the 16 filtered images are reduced to 5x5 now, connect to 120 hidden units out\n",
        "      self.fc2 = nn.Linear(120, 84)       # 120 hidden units in, 84 hidden units out\n",
        "      self.fc3 = nn.Linear(84, 10)        # 84 hidden units in, 10 outputs units\n",
        "\n",
        "    def forward(self, x):\n",
        "      x = self.pool(F.relu(self.conv1(x)))\n",
        "    #   print(\"x.size(): \",x.size())\n",
        "      x = x.view(-1, 6 * 13 * 13) # .view() is similar to .reshape(), so this flattens x into a vector\n",
        "      x = F.relu(self.fc1(x))\n",
        "      x = F.relu(self.fc2(x))\n",
        "      x = F.log_softmax(self.fc3(x), dim=1)\n",
        "      return x\n",
        "  \n",
        "  ##### Initialize the network and optimizer ###################################\n",
        "  print(\"Initializing the network ...\")\n",
        "  net = Net()\n",
        "  criterion = nn.CrossEntropyLoss()\n",
        "  optimizer = optim.SGD(net.parameters(), lr=0.001, momentum=0.9) # lr = learning rate/step size\n",
        "\n",
        "  ##### Training the network ###################################################\n",
        "  print(\"Training the network ...\")\n",
        "  for e in range(epochs):  # loop over the dataset multiple times\n",
        "    print(\"Epoch: \", e+1)\n",
        "    for i, data in enumerate(train_loader, 0):\n",
        "      inputs, labels = data\n",
        "      optimizer.zero_grad() # zero the parameter gradients\n",
        "\n",
        "      outputs = net(inputs) # forward pass\n",
        "      loss = criterion(outputs, labels) # compute loss\n",
        "      loss.backward() # backward pass\n",
        "      optimizer.step() # gradient descent update\n",
        "\n",
        "      losses.append(loss.item())\n",
        "\n",
        "  ##### Evaluating the network on training data ################################\n",
        "  print(\"Evaluating on training data ...\")\n",
        "  correct = 0\n",
        "  total = 0\n",
        "  with torch.no_grad():\n",
        "    for data in train_loader:\n",
        "      inputs, labels = data\n",
        "      outputs = net(inputs)\n",
        "      _, predicted = torch.max(outputs.data, 1)\n",
        "      total += labels.size(0)\n",
        "      correct += (predicted == labels).sum().item()\n",
        "  train_acc = correct / total\n",
        "\n",
        "  ##### Evaluating the network on test data ####################################\n",
        "  print(\"Evaluating on test data ...\")\n",
        "  correct = 0\n",
        "  total = 0\n",
        "  with torch.no_grad():\n",
        "    for data in test_loader:\n",
        "      inputs, labels = data\n",
        "      outputs = net(inputs)\n",
        "      _, predicted = torch.max(outputs.data, 1)\n",
        "      total += labels.size(0)\n",
        "      correct += (predicted == labels).sum().item()\n",
        "  test_acc = correct / total\n",
        "\n",
        "  return losses, train_acc, test_acc"
      ],
      "execution_count": 0,
      "outputs": []
    },
    {
      "cell_type": "code",
      "metadata": {
        "id": "e46COLiIin9i",
        "colab_type": "code",
        "outputId": "b23bb440-9bfc-4ca3-c1e8-04240125e2de",
        "colab": {
          "base_uri": "https://localhost:8080/",
          "height": 401
        }
      },
      "source": [
        "# We will call your answer like this:\n",
        "losses, train_acc, test_acc = eval_net_b(epochs=2, batch_size=100, sizes=[3, 2])\n",
        "print(\"Training accuracy: \", train_acc)\n",
        "print(\"Test accuracy: \", test_acc)\n",
        "plt.plot(losses)\n",
        "plt.show()"
      ],
      "execution_count": 0,
      "outputs": [
        {
          "output_type": "stream",
          "text": [
            "Initializing the network ...\n",
            "Training the network ...\n",
            "Epoch:  1\n",
            "Epoch:  2\n",
            "Evaluating on training data ...\n",
            "Evaluating on test data ...\n",
            "Training accuracy:  0.9021666666666667\n",
            "Test accuracy:  0.9084\n"
          ],
          "name": "stdout"
        },
        {
          "output_type": "display_data",
          "data": {
            "image/png": "[encoded data removed]",
            "text/plain": [
              "<Figure size 432x288 with 1 Axes>"
            ]
          },
          "metadata": {
            "tags": []
          }
        }
      ]
    },
    {
      "cell_type": "markdown",
      "metadata": {
        "id": "SNKw5ucsPBGX",
        "colab_type": "text"
      },
      "source": [
        "---\n",
        "---\n",
        "---\n",
        "### part-B version 2\n",
        "b) **[1 point]** You will implement a modification called `eval_net_b()`. **Remove the second convolutional layer from `eval_net()`.** Now there should only be 1 convolutional layer, followed by 1 pooling layer, and 2 fully connected hidden layers. The convolutional filters are currently 3x3 and the pooling is currently 2x2. We will keep these square, but we want to control the size of the filters and the size of the pooling layer. We will add a new argument that controls these:\n",
        "\n",
        "```\n",
        "sizes = [filter_size, pooling_size]\n",
        "```\n",
        "\n",
        "**Be warned:** by modifying the filter sizes, you will also have to modify the total number of inputs into the first hidden layer. It was hard-coded at `16*5*5`, because we figured out that the images were reduced to 5x5 images after the convolution and pooling, but this will no longer be true. **Hint: use `x.size()` to get the proper dimensions.**"
      ]
    },
    {
      "cell_type": "code",
      "metadata": {
        "id": "Z1g72iuEPA32",
        "colab_type": "code",
        "colab": {}
      },
      "source": [
        "import math\n",
        "def eval_net_b(epochs, batch_size, sizes):\n",
        "  # Insert your answer here\n",
        "  ##### Prepare return values ##################################################\n",
        "  losses = []\n",
        "  train_acc = 0\n",
        "  test_acc = 0\n",
        "  fs = sizes[0]\n",
        "  ps = sizes[1]\n",
        "\n",
        "  ##### Create iterators for each dataset ######################################\n",
        "  train_loader = torch.utils.data.DataLoader(train_data, batch_size=batch_size, shuffle=True)\n",
        "  test_loader = torch.utils.data.DataLoader(test_data, batch_size=batch_size, shuffle=False)\n",
        "\n",
        "  ##### Define the network #####################################################\n",
        "  class Net(nn.Module):\n",
        "    def __init__(self):\n",
        "      super(Net, self).__init__()\n",
        "      self.conv1 = nn.Conv2d(1, 6, fs)     # 1 channel in, 6 filters out, 3x3 filters\n",
        "      self.pool = nn.MaxPool2d(ps, ps)      # 2x2 pooling, with a stride of 2 (move the window by 2 pixels)\n",
        "    #   self.conv2 = nn.Conv2d(6, 16, 3)    # 6 filters in, 16 filters out, 3x3 filters\n",
        "      tConv = math.floor((28-sizes[0])/1+1) # kernel_size = 3 and stride = 1 (conv)\n",
        "      tPool= math.floor((tConv-sizes[1])/2+1) # kernel_size = dynamic(sizes[1]) i.e. 2 and keeping stride = 2 (pooling)\n",
        "      self.fc1 = nn.Linear(6 * tPool * tPool, 120) # the 16 filtered images are reduced to 5x5 now, connect to 120 hidden units out\n",
        "      self.fc2 = nn.Linear(120, 84)       # 120 hidden units in, 84 hidden units out\n",
        "      self.fc3 = nn.Linear(84, 10)        # 84 hidden units in, 10 outputs units\n",
        "\n",
        "    def forward(self, x):\n",
        "      x = self.pool(F.relu(self.conv1(x)))\n",
        "      x = x.view(-1, 6 * x.size()[2] * x.size()[3]) # 13x13 x.size()[2] and x.size()[3] are 13\n",
        "      x = F.relu(self.fc1(x))\n",
        "      x = F.relu(self.fc2(x))\n",
        "      x = F.log_softmax(self.fc3(x), dim=1)\n",
        "      return x\n",
        "  \n",
        "  ##### Initialize the network and optimizer ###################################\n",
        "  print(\"Initializing the network ...\")\n",
        "  net = Net()\n",
        "  criterion = nn.CrossEntropyLoss()\n",
        "  optimizer = optim.SGD(net.parameters(), lr=0.001, momentum=0.9) # lr = learning rate/step size\n",
        "\n",
        "  ##### Training the network ###################################################\n",
        "  print(\"Training the network ...\")\n",
        "  for e in range(epochs):  # loop over the dataset multiple times\n",
        "    print(\"Epoch: \", e+1)\n",
        "    for i, data in enumerate(train_loader, 0):\n",
        "      inputs, labels = data\n",
        "      optimizer.zero_grad() # zero the parameter gradients\n",
        "\n",
        "      outputs = net(inputs) # forward pass\n",
        "      loss = criterion(outputs, labels) # compute loss\n",
        "      loss.backward() # backward pass\n",
        "      optimizer.step() # gradient descent update\n",
        "\n",
        "      losses.append(loss.item())\n",
        "\n",
        "  ##### Evaluating the network on training data ################################\n",
        "  print(\"Evaluating on training data ...\")\n",
        "  correct = 0\n",
        "  total = 0\n",
        "  with torch.no_grad():\n",
        "    for data in train_loader:\n",
        "      inputs, labels = data\n",
        "      outputs = net(inputs)\n",
        "      _, predicted = torch.max(outputs.data, 1)\n",
        "      total += labels.size(0)\n",
        "      correct += (predicted == labels).sum().item()\n",
        "  train_acc = correct / total\n",
        "\n",
        "  ##### Evaluating the network on test data ####################################\n",
        "  print(\"Evaluating on test data ...\")\n",
        "  correct = 0\n",
        "  total = 0\n",
        "  with torch.no_grad():\n",
        "    for data in test_loader:\n",
        "      inputs, labels = data\n",
        "      outputs = net(inputs)\n",
        "      _, predicted = torch.max(outputs.data, 1)\n",
        "      total += labels.size(0)\n",
        "      correct += (predicted == labels).sum().item()\n",
        "  test_acc = correct / total\n",
        "\n",
        "  return losses, train_acc, test_acc"
      ],
      "execution_count": 0,
      "outputs": []
    },
    {
      "cell_type": "code",
      "metadata": {
        "id": "q9oMaifmQ1lB",
        "colab_type": "code",
        "colab": {
          "base_uri": "https://localhost:8080/",
          "height": 401
        },
        "outputId": "939294fe-7b7e-45f3-9685-6e4f4571c5b0"
      },
      "source": [
        "# We will call your answer like this:\n",
        "losses, train_acc, test_acc = eval_net_b(epochs=2, batch_size=100, sizes=[3, 2])\n",
        "print(\"Training accuracy: \", train_acc)\n",
        "print(\"Test accuracy: \", test_acc)\n",
        "plt.plot(losses)\n",
        "plt.show()"
      ],
      "execution_count": 5,
      "outputs": [
        {
          "output_type": "stream",
          "text": [
            "Initializing the network ...\n",
            "Training the network ...\n",
            "Epoch:  1\n",
            "Epoch:  2\n",
            "Evaluating on training data ...\n",
            "Evaluating on test data ...\n",
            "Training accuracy:  0.8963166666666667\n",
            "Test accuracy:  0.8999\n"
          ],
          "name": "stdout"
        },
        {
          "output_type": "display_data",
          "data": {
            "image/png": "[encoded data removed]",
            "text/plain": [
              "<Figure size 432x288 with 1 Axes>"
            ]
          },
          "metadata": {
            "tags": []
          }
        }
      ]
    },
    {
      "cell_type": "markdown",
      "metadata": {
        "id": "yl44Ykwmjmzq",
        "colab_type": "text"
      },
      "source": [
        "---\n",
        "---\n",
        "---\n",
        "\n",
        "c) **[1 point]** You will implement a modification called `eval_net_c()`. The original `eval_net()` uses ReLU activations in the hidden layers. We should also try different activation functions. **Find a new activation function in the torch.nn.functional documentation.** They are listed under \"Non-linear activation functions\".\n",
        "\n",
        "https://pytorch.org/docs/stable/nn.functional.html\n",
        "\n",
        "Replace the ReLU activations with your new activation function. Many of these take additional arguments. Feel free to try out different values for these parameters.\n",
        "\n",
        "**Also find a new pooling function.** These can be found at:\n",
        "\n",
        "https://pytorch.org/docs/stable/nn.html\n",
        "\n",
        "listed under \"Pooling layers\". Be sure to pick one with the \"2d\" suffix. Currently we are using MaxPool2d. Replace it with the pooling function that you find."
      ]
    },
    {
      "cell_type": "code",
      "metadata": {
        "id": "zWdzEU2GlCWk",
        "colab_type": "code",
        "colab": {}
      },
      "source": [
        "def eval_net_c(epochs, batch_size):\n",
        "  # Insert your answer here\n",
        "  ##### Prepare return values ##################################################\n",
        "  losses = []\n",
        "  train_acc = 0\n",
        "  test_acc = 0\n",
        "\n",
        "  ##### Create iterators for each dataset ######################################\n",
        "  train_loader = torch.utils.data.DataLoader(train_data, batch_size=batch_size, shuffle=True)\n",
        "  test_loader = torch.utils.data.DataLoader(test_data, batch_size=batch_size, shuffle=False)\n",
        "\n",
        "  ##### Define the network #####################################################\n",
        "  class Net(nn.Module):\n",
        "    def __init__(self):\n",
        "      super(Net, self).__init__()\n",
        "      self.conv1 = nn.Conv2d(1, 6, 3)     # 1 channel in, 6 filters out, 3x3 filters\n",
        "      self.pool = nn.AvgPool2d(2, 2)      # 2x2 Avg pooling, with a stride of 2 (move the window by 2 pixels)\n",
        "      self.conv2 = nn.Conv2d(6, 16, 3)    # 6 filters in, 16 filters out, 3x3 filters\n",
        "      self.fc1 = nn.Linear(16 * 5 * 5, 120) # the 16 filtered images are reduced to 5x5 now, connect to 120 hidden units out\n",
        "      self.fc2 = nn.Linear(120, 84)       # 120 hidden units in, 84 hidden units out\n",
        "      self.fc3 = nn.Linear(84, 10)        # 84 hidden units in, 10 outputs units\n",
        "\n",
        "    def forward(self, x):\n",
        "      x = self.pool(F.leaky_relu(self.conv1(x)))\n",
        "      x = self.pool(F.leaky_relu(self.conv2(x)))\n",
        "      x = x.view(-1, 16 * 5 * 5) # .view() is similar to .reshape(), so this flattens x into a vector\n",
        "      x = F.leaky_relu(self.fc1(x))\n",
        "      x = F.leaky_relu(self.fc2(x))\n",
        "      x = F.log_softmax(self.fc3(x), dim=1)\n",
        "      return x\n",
        "  \n",
        "  ##### Initialize the network and optimizer ###################################\n",
        "  print(\"Initializing the network ...\")\n",
        "  net = Net()\n",
        "  criterion = nn.CrossEntropyLoss()\n",
        "  optimizer = optim.SGD(net.parameters(), lr=0.001, momentum=0.9) # lr = learning rate/step size\n",
        "\n",
        "  ##### Training the network ###################################################\n",
        "  print(\"Training the network ...\")\n",
        "  for e in range(epochs):  # loop over the dataset multiple times\n",
        "    print(\"Epoch: \", e+1)\n",
        "    for i, data in enumerate(train_loader, 0):\n",
        "      inputs, labels = data\n",
        "      optimizer.zero_grad() # zero the parameter gradients\n",
        "\n",
        "      outputs = net(inputs) # forward pass\n",
        "      loss = criterion(outputs, labels) # compute loss\n",
        "      loss.backward() # backward pass\n",
        "      optimizer.step() # gradient descent update\n",
        "\n",
        "      losses.append(loss.item())\n",
        "\n",
        "  ##### Evaluating the network on training data ################################\n",
        "  print(\"Evaluating on training data ...\")\n",
        "  correct = 0\n",
        "  total = 0\n",
        "  with torch.no_grad():\n",
        "    for data in train_loader:\n",
        "      inputs, labels = data\n",
        "      outputs = net(inputs)\n",
        "      _, predicted = torch.max(outputs.data, 1)\n",
        "      total += labels.size(0)\n",
        "      correct += (predicted == labels).sum().item()\n",
        "  train_acc = correct / total\n",
        "\n",
        "  ##### Evaluating the network on test data ####################################\n",
        "  print(\"Evaluating on test data ...\")\n",
        "  correct = 0\n",
        "  total = 0\n",
        "  with torch.no_grad():\n",
        "    for data in test_loader:\n",
        "      inputs, labels = data\n",
        "      outputs = net(inputs)\n",
        "      _, predicted = torch.max(outputs.data, 1)\n",
        "      total += labels.size(0)\n",
        "      correct += (predicted == labels).sum().item()\n",
        "  test_acc = correct / total\n",
        "\n",
        "  return losses, train_acc, test_acc"
      ],
      "execution_count": 0,
      "outputs": []
    },
    {
      "cell_type": "code",
      "metadata": {
        "id": "8rE0geaZlF6Y",
        "colab_type": "code",
        "outputId": "ca405c7f-2df2-4774-ec05-3c926a4a7801",
        "colab": {
          "base_uri": "https://localhost:8080/",
          "height": 401
        }
      },
      "source": [
        "# We will call your answer like this:\n",
        "losses, train_acc, test_acc = eval_net_c(epochs=2, batch_size=100)\n",
        "print(\"Training accuracy: \", train_acc)\n",
        "print(\"Test accuracy: \", test_acc)\n",
        "plt.plot(losses)\n",
        "plt.show()"
      ],
      "execution_count": 0,
      "outputs": [
        {
          "output_type": "stream",
          "text": [
            "Initializing the network ...\n",
            "Training the network ...\n",
            "Epoch:  1\n",
            "Epoch:  2\n",
            "Evaluating on training data ...\n",
            "Evaluating on test data ...\n",
            "Training accuracy:  0.6553333333333333\n",
            "Test accuracy:  0.6605\n"
          ],
          "name": "stdout"
        },
        {
          "output_type": "display_data",
          "data": {
            "image/png": "[encoded data removed]",
            "text/plain": [
              "<Figure size 432x288 with 1 Axes>"
            ]
          },
          "metadata": {
            "tags": []
          }
        }
      ]
    },
    {
      "cell_type": "markdown",
      "metadata": {
        "id": "MqS5mJpG1kOz",
        "colab_type": "text"
      },
      "source": [
        "---\n",
        "---\n",
        "---\n",
        "\n",
        "d) **[1 point]** You will implement a modification called `eval_net_d()`. During training, we use backpropagation to compute the gradient of the weights when we call:\n",
        "\n",
        "`loss.backward()`\n",
        "\n",
        "Then we use the gradient to update the weights in the step:\n",
        "\n",
        "`optimizer.step()`\n",
        "\n",
        "The exact formula used to update the weights depends on which optimizer we chose. In `eval_net()`, we are using Stochastic Gradient Descent (SGD), with momentum. There are many optimizers, some of which can be found at:\n",
        "\n",
        "https://pytorch.org/docs/stable/optim.html\n",
        "\n",
        "**Find a new optimization algorithm under \"Algorithms\" and replace the optimizer in `eval_net()` with it.** Some algorithms include Adadelta, Adagrad, Adam, and RMSProp. Some of them require additional parameters. Feel free to use the defaults, or try out different values."
      ]
    },
    {
      "cell_type": "code",
      "metadata": {
        "id": "wvkJPR_N2_yJ",
        "colab_type": "code",
        "colab": {}
      },
      "source": [
        "def eval_net_d(epochs, batch_size):\n",
        "  # Insert your answer here\n",
        "  ##### Prepare return values ##################################################\n",
        "  losses = []\n",
        "  train_acc = 0\n",
        "  test_acc = 0\n",
        "\n",
        "  ##### Create iterators for each dataset ######################################\n",
        "  train_loader = torch.utils.data.DataLoader(train_data, batch_size=batch_size, shuffle=True)\n",
        "  test_loader = torch.utils.data.DataLoader(test_data, batch_size=batch_size, shuffle=False)\n",
        "\n",
        "  ##### Define the network #####################################################\n",
        "  class Net(nn.Module):\n",
        "    def __init__(self):\n",
        "      super(Net, self).__init__()\n",
        "      self.conv1 = nn.Conv2d(1, 6, 3)     # 1 channel in, 6 filters out, 3x3 filters\n",
        "      self.pool = nn.MaxPool2d(2, 2)      # 2x2 pooling, with a stride of 2 (move the window by 2 pixels)\n",
        "      self.conv2 = nn.Conv2d(6, 16, 3)    # 6 filters in, 16 filters out, 3x3 filters\n",
        "      self.fc1 = nn.Linear(16 * 5 * 5, 120) # the 16 filtered images are reduced to 5x5 now, connect to 120 hidden units out\n",
        "      self.fc2 = nn.Linear(120, 84)       # 120 hidden units in, 84 hidden units out\n",
        "      self.fc3 = nn.Linear(84, 10)        # 84 hidden units in, 10 outputs units\n",
        "\n",
        "    def forward(self, x):\n",
        "      x = self.pool(F.relu(self.conv1(x)))\n",
        "      x = self.pool(F.relu(self.conv2(x)))\n",
        "      x = x.view(-1, 16 * 5 * 5) # .view() is similar to .reshape(), so this flattens x into a vector\n",
        "      x = F.relu(self.fc1(x))\n",
        "      x = F.relu(self.fc2(x))\n",
        "      x = F.log_softmax(self.fc3(x), dim=1)\n",
        "      return x\n",
        "  \n",
        "  ##### Initialize the network and optimizer ###################################\n",
        "  print(\"Initializing the network ...\")\n",
        "  net = Net()\n",
        "  criterion = nn.CrossEntropyLoss()\n",
        "  optimizer = optim.Rprop(net.parameters(), lr=0.001) # lr = learning rate/step size\n",
        "\n",
        "  ##### Training the network ###################################################\n",
        "  print(\"Training the network ...\")\n",
        "  for e in range(epochs):  # loop over the dataset multiple times\n",
        "    print(\"Epoch: \", e+1)\n",
        "    for i, data in enumerate(train_loader, 0):\n",
        "      inputs, labels = data\n",
        "      optimizer.zero_grad() # zero the parameter gradients\n",
        "\n",
        "      outputs = net(inputs) # forward pass\n",
        "      loss = criterion(outputs, labels) # compute loss\n",
        "      loss.backward() # backward pass\n",
        "      optimizer.step() # gradient descent update\n",
        "\n",
        "      losses.append(loss.item())\n",
        "\n",
        "  ##### Evaluating the network on training data ################################\n",
        "  print(\"Evaluating on training data ...\")\n",
        "  correct = 0\n",
        "  total = 0\n",
        "  with torch.no_grad():\n",
        "    for data in train_loader:\n",
        "      inputs, labels = data\n",
        "      outputs = net(inputs)\n",
        "      _, predicted = torch.max(outputs.data, 1)\n",
        "      total += labels.size(0)\n",
        "      correct += (predicted == labels).sum().item()\n",
        "  train_acc = correct / total\n",
        "\n",
        "  ##### Evaluating the network on test data ####################################\n",
        "  print(\"Evaluating on test data ...\")\n",
        "  correct = 0\n",
        "  total = 0\n",
        "  with torch.no_grad():\n",
        "    for data in test_loader:\n",
        "      inputs, labels = data\n",
        "      outputs = net(inputs)\n",
        "      _, predicted = torch.max(outputs.data, 1)\n",
        "      total += labels.size(0)\n",
        "      correct += (predicted == labels).sum().item()\n",
        "  test_acc = correct / total\n",
        "\n",
        "  return losses, train_acc, test_acc"
      ],
      "execution_count": 0,
      "outputs": []
    },
    {
      "cell_type": "code",
      "metadata": {
        "id": "ct0mSBvG3Ge1",
        "colab_type": "code",
        "outputId": "5e9e6524-6be7-477e-b96e-0722060b5d27",
        "colab": {
          "base_uri": "https://localhost:8080/",
          "height": 403
        }
      },
      "source": [
        "# We will call your answer like this:\n",
        "losses, train_acc, test_acc = eval_net_d(epochs=2, batch_size=100)\n",
        "print(\"Training accuracy: \", train_acc)\n",
        "print(\"Test accuracy: \", test_acc)\n",
        "plt.plot(losses)\n",
        "plt.show()"
      ],
      "execution_count": 0,
      "outputs": [
        {
          "output_type": "stream",
          "text": [
            "Initializing the network ...\n",
            "Training the network ...\n",
            "Epoch:  1\n",
            "Epoch:  2\n",
            "Evaluating on training data ...\n",
            "Evaluating on test data ...\n",
            "Training accuracy:  0.8851\n",
            "Test accuracy:  0.8897\n"
          ],
          "name": "stdout"
        },
        {
          "output_type": "display_data",
          "data": {
            "image/png": "[encoded data removed]",
            "text/plain": [
              "<Figure size 432x288 with 1 Axes>"
            ]
          },
          "metadata": {
            "tags": []
          }
        }
      ]
    },
    {
      "cell_type": "code",
      "metadata": {
        "id": "-Xh07PPPZgpF",
        "colab_type": "code",
        "colab": {}
      },
      "source": [
        ""
      ],
      "execution_count": 0,
      "outputs": []
    }
  ]
}